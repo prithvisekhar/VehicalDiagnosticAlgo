{
 "cells": [
  {
   "cell_type": "code",
   "execution_count": 1,
   "id": "wrong-climb",
   "metadata": {},
   "outputs": [],
   "source": [
    "import pandas as pd\n",
    "import numpy as np\n",
    "import matplotlib.pyplot as plt\n",
    "import gmplot"
   ]
  },
  {
   "cell_type": "code",
   "execution_count": 2,
   "id": "devoted-destruction",
   "metadata": {},
   "outputs": [],
   "source": [
    "data = pd.read_csv('Data_of_counts_MarL1.csv')"
   ]
  },
  {
   "cell_type": "code",
   "execution_count": 3,
   "id": "private-history",
   "metadata": {},
   "outputs": [
    {
     "data": {
      "text/html": [
       "<div>\n",
       "<style scoped>\n",
       "    .dataframe tbody tr th:only-of-type {\n",
       "        vertical-align: middle;\n",
       "    }\n",
       "\n",
       "    .dataframe tbody tr th {\n",
       "        vertical-align: top;\n",
       "    }\n",
       "\n",
       "    .dataframe thead th {\n",
       "        text-align: right;\n",
       "    }\n",
       "</style>\n",
       "<table border=\"1\" class=\"dataframe\">\n",
       "  <thead>\n",
       "    <tr style=\"text-align: right;\">\n",
       "      <th></th>\n",
       "      <th>Unnamed: 0</th>\n",
       "      <th>TIME</th>\n",
       "      <th>SPEED</th>\n",
       "      <th>Latitude</th>\n",
       "      <th>Longitude</th>\n",
       "      <th>CARS</th>\n",
       "      <th>PERSONS</th>\n",
       "      <th>MOTORCYCLES</th>\n",
       "      <th>TRUCKS</th>\n",
       "    </tr>\n",
       "  </thead>\n",
       "  <tbody>\n",
       "    <tr>\n",
       "      <th>0</th>\n",
       "      <td>0</td>\n",
       "      <td>39</td>\n",
       "      <td>4</td>\n",
       "      <td>17.340996</td>\n",
       "      <td>78.539690</td>\n",
       "      <td>0</td>\n",
       "      <td>0</td>\n",
       "      <td>0</td>\n",
       "      <td>0</td>\n",
       "    </tr>\n",
       "    <tr>\n",
       "      <th>1</th>\n",
       "      <td>1</td>\n",
       "      <td>40</td>\n",
       "      <td>3</td>\n",
       "      <td>17.340993</td>\n",
       "      <td>78.539693</td>\n",
       "      <td>0</td>\n",
       "      <td>0</td>\n",
       "      <td>0</td>\n",
       "      <td>0</td>\n",
       "    </tr>\n",
       "    <tr>\n",
       "      <th>2</th>\n",
       "      <td>2</td>\n",
       "      <td>41</td>\n",
       "      <td>1</td>\n",
       "      <td>17.340991</td>\n",
       "      <td>78.539694</td>\n",
       "      <td>0</td>\n",
       "      <td>0</td>\n",
       "      <td>0</td>\n",
       "      <td>0</td>\n",
       "    </tr>\n",
       "    <tr>\n",
       "      <th>3</th>\n",
       "      <td>3</td>\n",
       "      <td>42</td>\n",
       "      <td>0</td>\n",
       "      <td>17.340990</td>\n",
       "      <td>78.539697</td>\n",
       "      <td>0</td>\n",
       "      <td>0</td>\n",
       "      <td>0</td>\n",
       "      <td>0</td>\n",
       "    </tr>\n",
       "    <tr>\n",
       "      <th>4</th>\n",
       "      <td>4</td>\n",
       "      <td>43</td>\n",
       "      <td>0</td>\n",
       "      <td>17.340990</td>\n",
       "      <td>78.539698</td>\n",
       "      <td>0</td>\n",
       "      <td>0</td>\n",
       "      <td>0</td>\n",
       "      <td>0</td>\n",
       "    </tr>\n",
       "  </tbody>\n",
       "</table>\n",
       "</div>"
      ],
      "text/plain": [
       "   Unnamed: 0  TIME  SPEED   Latitude  Longitude  CARS  PERSONS  MOTORCYCLES  \\\n",
       "0           0    39      4  17.340996  78.539690     0        0            0   \n",
       "1           1    40      3  17.340993  78.539693     0        0            0   \n",
       "2           2    41      1  17.340991  78.539694     0        0            0   \n",
       "3           3    42      0  17.340990  78.539697     0        0            0   \n",
       "4           4    43      0  17.340990  78.539698     0        0            0   \n",
       "\n",
       "   TRUCKS  \n",
       "0       0  \n",
       "1       0  \n",
       "2       0  \n",
       "3       0  \n",
       "4       0  "
      ]
     },
     "execution_count": 3,
     "metadata": {},
     "output_type": "execute_result"
    }
   ],
   "source": [
    "data.head()"
   ]
  },
  {
   "cell_type": "code",
   "execution_count": 4,
   "id": "identified-portsmouth",
   "metadata": {},
   "outputs": [
    {
     "data": {
      "text/plain": [
       "Index(['Unnamed: 0', 'TIME', 'SPEED', 'Latitude', 'Longitude', 'CARS',\n",
       "       'PERSONS', 'MOTORCYCLES', 'TRUCKS'],\n",
       "      dtype='object')"
      ]
     },
     "execution_count": 4,
     "metadata": {},
     "output_type": "execute_result"
    }
   ],
   "source": [
    "data.columns"
   ]
  },
  {
   "cell_type": "code",
   "execution_count": 5,
   "id": "simple-rebound",
   "metadata": {},
   "outputs": [
    {
     "data": {
      "text/html": [
       "<div>\n",
       "<style scoped>\n",
       "    .dataframe tbody tr th:only-of-type {\n",
       "        vertical-align: middle;\n",
       "    }\n",
       "\n",
       "    .dataframe tbody tr th {\n",
       "        vertical-align: top;\n",
       "    }\n",
       "\n",
       "    .dataframe thead th {\n",
       "        text-align: right;\n",
       "    }\n",
       "</style>\n",
       "<table border=\"1\" class=\"dataframe\">\n",
       "  <thead>\n",
       "    <tr style=\"text-align: right;\">\n",
       "      <th></th>\n",
       "      <th>TIME</th>\n",
       "      <th>SPEED</th>\n",
       "      <th>Latitude</th>\n",
       "      <th>Longitude</th>\n",
       "      <th>CARS</th>\n",
       "      <th>PERSONS</th>\n",
       "      <th>MOTORCYCLES</th>\n",
       "      <th>TRUCKS</th>\n",
       "    </tr>\n",
       "  </thead>\n",
       "  <tbody>\n",
       "    <tr>\n",
       "      <th>0</th>\n",
       "      <td>39</td>\n",
       "      <td>4</td>\n",
       "      <td>17.340996</td>\n",
       "      <td>78.539690</td>\n",
       "      <td>0</td>\n",
       "      <td>0</td>\n",
       "      <td>0</td>\n",
       "      <td>0</td>\n",
       "    </tr>\n",
       "    <tr>\n",
       "      <th>1</th>\n",
       "      <td>40</td>\n",
       "      <td>3</td>\n",
       "      <td>17.340993</td>\n",
       "      <td>78.539693</td>\n",
       "      <td>0</td>\n",
       "      <td>0</td>\n",
       "      <td>0</td>\n",
       "      <td>0</td>\n",
       "    </tr>\n",
       "    <tr>\n",
       "      <th>2</th>\n",
       "      <td>41</td>\n",
       "      <td>1</td>\n",
       "      <td>17.340991</td>\n",
       "      <td>78.539694</td>\n",
       "      <td>0</td>\n",
       "      <td>0</td>\n",
       "      <td>0</td>\n",
       "      <td>0</td>\n",
       "    </tr>\n",
       "    <tr>\n",
       "      <th>3</th>\n",
       "      <td>42</td>\n",
       "      <td>0</td>\n",
       "      <td>17.340990</td>\n",
       "      <td>78.539697</td>\n",
       "      <td>0</td>\n",
       "      <td>0</td>\n",
       "      <td>0</td>\n",
       "      <td>0</td>\n",
       "    </tr>\n",
       "    <tr>\n",
       "      <th>4</th>\n",
       "      <td>43</td>\n",
       "      <td>0</td>\n",
       "      <td>17.340990</td>\n",
       "      <td>78.539698</td>\n",
       "      <td>0</td>\n",
       "      <td>0</td>\n",
       "      <td>0</td>\n",
       "      <td>0</td>\n",
       "    </tr>\n",
       "  </tbody>\n",
       "</table>\n",
       "</div>"
      ],
      "text/plain": [
       "   TIME  SPEED   Latitude  Longitude  CARS  PERSONS  MOTORCYCLES  TRUCKS\n",
       "0    39      4  17.340996  78.539690     0        0            0       0\n",
       "1    40      3  17.340993  78.539693     0        0            0       0\n",
       "2    41      1  17.340991  78.539694     0        0            0       0\n",
       "3    42      0  17.340990  78.539697     0        0            0       0\n",
       "4    43      0  17.340990  78.539698     0        0            0       0"
      ]
     },
     "execution_count": 5,
     "metadata": {},
     "output_type": "execute_result"
    }
   ],
   "source": [
    "data = data[['TIME','SPEED','Latitude','Longitude','CARS','PERSONS','MOTORCYCLES','TRUCKS']]\n",
    "data.head()"
   ]
  },
  {
   "cell_type": "code",
   "execution_count": 6,
   "id": "mighty-fortune",
   "metadata": {},
   "outputs": [
    {
     "data": {
      "text/plain": [
       "121"
      ]
     },
     "execution_count": 6,
     "metadata": {},
     "output_type": "execute_result"
    }
   ],
   "source": [
    "data.shape[0]"
   ]
  },
  {
   "cell_type": "code",
   "execution_count": 7,
   "id": "divine-venice",
   "metadata": {},
   "outputs": [],
   "source": [
    "i=0\n",
    "time_instances = []\n",
    "while i < (data.shape[0] - 10):\n",
    "    A = data['SPEED'].iloc[i:i+10]\n",
    "    arr = np.array(A<20)\n",
    "    count = np.count_nonzero(arr)\n",
    "    if count == 10:\n",
    "        time_instances.append(i)\n",
    "        i = i + 10\n",
    "    else:\n",
    "        i = i + 1"
   ]
  },
  {
   "cell_type": "code",
   "execution_count": 10,
   "id": "formal-pollution",
   "metadata": {},
   "outputs": [
    {
     "data": {
      "text/plain": [
       "[0, 10, 20, 43, 53, 63, 73, 97, 107]"
      ]
     },
     "execution_count": 10,
     "metadata": {},
     "output_type": "execute_result"
    }
   ],
   "source": [
    "time_instances"
   ]
  },
  {
   "cell_type": "code",
   "execution_count": 13,
   "id": "neither-fleece",
   "metadata": {},
   "outputs": [
    {
     "name": "stdout",
     "output_type": "stream",
     "text": [
      "[0, 10, 43, 107]\n",
      "[82    17.340678\n",
      "83    17.340681\n",
      "84    17.340688\n",
      "85    17.340694\n",
      "86    17.340700\n",
      "87    17.340705\n",
      "88    17.340707\n",
      "89    17.340707\n",
      "90    17.340740\n",
      "91    17.340735\n",
      "Name: Latitude, dtype: float64, 92     17.340713\n",
      "93     17.340714\n",
      "94     17.340715\n",
      "95     17.340725\n",
      "96     17.340710\n",
      "97     17.340711\n",
      "98     17.340709\n",
      "99     17.340710\n",
      "100    17.340720\n",
      "101    17.340734\n",
      "Name: Latitude, dtype: float64, 4     17.340990\n",
      "5     17.340989\n",
      "6     17.340987\n",
      "7     17.340986\n",
      "8     17.340986\n",
      "9     17.340984\n",
      "10    17.340985\n",
      "11    17.340985\n",
      "12    17.340984\n",
      "13    17.340979\n",
      "Name: Latitude, dtype: float64, 68    17.340688\n",
      "69    17.340692\n",
      "70    17.340687\n",
      "71    17.340690\n",
      "72    17.340688\n",
      "73    17.340688\n",
      "74    17.340692\n",
      "75    17.340696\n",
      "76    17.340697\n",
      "77    17.340700\n",
      "Name: Latitude, dtype: float64]\n",
      "[82    78.537804\n",
      "83    78.537780\n",
      "84    78.537757\n",
      "85    78.537733\n",
      "86    78.537699\n",
      "87    78.537653\n",
      "88    78.537608\n",
      "89    78.537550\n",
      "90    78.537506\n",
      "91    78.537452\n",
      "Name: Longitude, dtype: float64, 92     78.537402\n",
      "93     78.537345\n",
      "94     78.537284\n",
      "95     78.537222\n",
      "96     78.537168\n",
      "97     78.537121\n",
      "98     78.537080\n",
      "99     78.537034\n",
      "100    78.536995\n",
      "101    78.536987\n",
      "Name: Longitude, dtype: float64, 4     78.539698\n",
      "5     78.539698\n",
      "6     78.539696\n",
      "7     78.539694\n",
      "8     78.539692\n",
      "9     78.539692\n",
      "10    78.539692\n",
      "11    78.539692\n",
      "12    78.539691\n",
      "13    78.539695\n",
      "Name: Longitude, dtype: float64, 68    78.538176\n",
      "69    78.538148\n",
      "70    78.538124\n",
      "71    78.538109\n",
      "72    78.538091\n",
      "73    78.538063\n",
      "74    78.538048\n",
      "75    78.538039\n",
      "76    78.538026\n",
      "77    78.538008\n",
      "Name: Longitude, dtype: float64]\n"
     ]
    }
   ],
   "source": [
    "x = data['TIME'].iloc[0]\n",
    "TIME = []\n",
    "C= []\n",
    "P = []\n",
    "M = []\n",
    "T = []\n",
    "Lati = []\n",
    "Longi = []\n",
    "\n",
    "for i in time_instances:\n",
    "    cars = data['CARS'].iloc[i-x:i-x+10]\n",
    "    car_array = np.array(cars>0)\n",
    "    car_count = np.count_nonzero(car_array)\n",
    "    C.append(car_count)\n",
    "    persons = data['PERSONS'].iloc[i-x:i-x+10]\n",
    "    person_array = np.array(persons>0)\n",
    "    person_count = np.count_nonzero(person_array)\n",
    "    P.append(person_count)\n",
    "    bikes = data['MOTORCYCLES'].iloc[i-x:i-x+10]\n",
    "    bike_array = np.array(bikes>0)\n",
    "    bike_count = np.count_nonzero(bike_array)\n",
    "    M.append(bike_count)\n",
    "    trucks = data['TRUCKS'].iloc[i-x:i-x+10]\n",
    "    truck_array = np.array(trucks>0)\n",
    "    truck_count = np.count_nonzero(truck_array)\n",
    "    T.append(truck_count)\n",
    "    if car_count>5 or person_count>5 or bike_count>5 or truck_count>5:\n",
    "        TIME.append(i)\n",
    "        Lati.append(data['Latitude'].iloc[i-x:i-x+10])\n",
    "        Longi.append(data['Longitude'].iloc[i-x:i-x+10])\n",
    "    else:\n",
    "        continue\n",
    "print(TIME)\n",
    "print(Lati)\n",
    "print(Longi)"
   ]
  },
  {
   "cell_type": "code",
   "execution_count": 15,
   "id": "nearby-palmer",
   "metadata": {},
   "outputs": [],
   "source": [
    "def PlotMap(latitude, longitude):\n",
    "    gmap = gmplot.GoogleMapPlotter(data['Latitude'].iloc[1], data['Longitude'].iloc[1], 17)\n",
    "    gmap.scatter(latitude, longitude, 'red', size=6, marker=False)\n",
    "    gmap.draw(\"traffic_instances_1.html\")"
   ]
  },
  {
   "cell_type": "code",
   "execution_count": 16,
   "id": "dirty-design",
   "metadata": {},
   "outputs": [],
   "source": [
    "PlotMap(Lati, Longi)"
   ]
  },
  {
   "cell_type": "code",
   "execution_count": null,
   "id": "solid-paraguay",
   "metadata": {},
   "outputs": [],
   "source": []
  }
 ],
 "metadata": {
  "kernelspec": {
   "display_name": "Python 3",
   "language": "python",
   "name": "python3"
  },
  "language_info": {
   "codemirror_mode": {
    "name": "ipython",
    "version": 3
   },
   "file_extension": ".py",
   "mimetype": "text/x-python",
   "name": "python",
   "nbconvert_exporter": "python",
   "pygments_lexer": "ipython3",
   "version": "3.9.0"
  }
 },
 "nbformat": 4,
 "nbformat_minor": 5
}
