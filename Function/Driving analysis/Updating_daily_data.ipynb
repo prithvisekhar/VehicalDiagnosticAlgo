{
 "cells": [
  {
   "cell_type": "code",
   "execution_count": 1,
   "id": "arranged-dragon",
   "metadata": {},
   "outputs": [],
   "source": [
    "import pandas as pd\n",
    "data = pd.read_csv('Daily_data.csv')"
   ]
  },
  {
   "cell_type": "code",
   "execution_count": 2,
   "id": "harmful-ladder",
   "metadata": {},
   "outputs": [
    {
     "data": {
      "text/html": [
       "<div>\n",
       "<style scoped>\n",
       "    .dataframe tbody tr th:only-of-type {\n",
       "        vertical-align: middle;\n",
       "    }\n",
       "\n",
       "    .dataframe tbody tr th {\n",
       "        vertical-align: top;\n",
       "    }\n",
       "\n",
       "    .dataframe thead th {\n",
       "        text-align: right;\n",
       "    }\n",
       "</style>\n",
       "<table border=\"1\" class=\"dataframe\">\n",
       "  <thead>\n",
       "    <tr style=\"text-align: right;\">\n",
       "      <th></th>\n",
       "      <th>Unnamed: 0</th>\n",
       "      <th>Day</th>\n",
       "      <th>Average</th>\n",
       "      <th>efficiency_cat_con</th>\n",
       "      <th>No. of over_speeding_instances</th>\n",
       "    </tr>\n",
       "  </thead>\n",
       "  <tbody>\n",
       "    <tr>\n",
       "      <th>0</th>\n",
       "      <td>0</td>\n",
       "      <td>Sat Aug 14 15:22:22 GMT+05:30 2021</td>\n",
       "      <td>10.308</td>\n",
       "      <td>0.6356</td>\n",
       "      <td>4</td>\n",
       "    </tr>\n",
       "    <tr>\n",
       "      <th>1</th>\n",
       "      <td>1</td>\n",
       "      <td>Sat Aug 14 15:43:08 GMT+05:30 2021</td>\n",
       "      <td>10.681</td>\n",
       "      <td>0.7127</td>\n",
       "      <td>9</td>\n",
       "    </tr>\n",
       "    <tr>\n",
       "      <th>2</th>\n",
       "      <td>2</td>\n",
       "      <td>Sat Aug 14 15:22:22 GMT+05:30 2021</td>\n",
       "      <td>10.308</td>\n",
       "      <td>0.6550</td>\n",
       "      <td>4</td>\n",
       "    </tr>\n",
       "    <tr>\n",
       "      <th>3</th>\n",
       "      <td>3</td>\n",
       "      <td>Sat Aug 14 15:22:22 GMT+05:30 2021</td>\n",
       "      <td>10.308</td>\n",
       "      <td>0.6550</td>\n",
       "      <td>4</td>\n",
       "    </tr>\n",
       "  </tbody>\n",
       "</table>\n",
       "</div>"
      ],
      "text/plain": [
       "   Unnamed: 0                                 Day  Average  \\\n",
       "0           0  Sat Aug 14 15:22:22 GMT+05:30 2021   10.308   \n",
       "1           1  Sat Aug 14 15:43:08 GMT+05:30 2021   10.681   \n",
       "2           2  Sat Aug 14 15:22:22 GMT+05:30 2021   10.308   \n",
       "3           3  Sat Aug 14 15:22:22 GMT+05:30 2021   10.308   \n",
       "\n",
       "   efficiency_cat_con  No. of over_speeding_instances  \n",
       "0              0.6356                               4  \n",
       "1              0.7127                               9  \n",
       "2              0.6550                               4  \n",
       "3              0.6550                               4  "
      ]
     },
     "execution_count": 2,
     "metadata": {},
     "output_type": "execute_result"
    }
   ],
   "source": [
    "data"
   ]
  },
  {
   "cell_type": "code",
   "execution_count": 3,
   "id": "unlike-antigua",
   "metadata": {},
   "outputs": [
    {
     "data": {
      "text/plain": [
       "{'Unnamed: 0': {0: 0, 1: 1, 2: 2, 3: 3},\n",
       " 'Day': {0: 'Sat Aug 14 15:22:22 GMT+05:30 2021',\n",
       "  1: 'Sat Aug 14 15:43:08 GMT+05:30 2021',\n",
       "  2: 'Sat Aug 14 15:22:22 GMT+05:30 2021',\n",
       "  3: 'Sat Aug 14 15:22:22 GMT+05:30 2021'},\n",
       " 'Average': {0: 10.308, 1: 10.681, 2: 10.308, 3: 10.308},\n",
       " 'efficiency_cat_con': {0: 0.6356, 1: 0.7127, 2: 0.655, 3: 0.655},\n",
       " 'No. of over_speeding_instances': {0: 4, 1: 9, 2: 4, 3: 4}}"
      ]
     },
     "execution_count": 3,
     "metadata": {},
     "output_type": "execute_result"
    }
   ],
   "source": [
    "df1 = data.to_dict()\n",
    "df1"
   ]
  },
  {
   "cell_type": "code",
   "execution_count": 4,
   "id": "defensive-diving",
   "metadata": {},
   "outputs": [],
   "source": [
    "A = data['Day'].tolist()\n",
    "B = data['Average'].tolist()\n",
    "C = data['efficiency_cat_con'].tolist()\n",
    "D = data['No. of over_speeding_instances'].tolist()"
   ]
  },
  {
   "cell_type": "code",
   "execution_count": 5,
   "id": "hollywood-texas",
   "metadata": {},
   "outputs": [],
   "source": [
    "from Routine import avg_fuel\n",
    "from TestOverspeed import over_speeding\n",
    "from Test_cat_convertor import cat_convertor\n",
    "\n",
    "df = pd.read_csv('data//14-Aug-2021-3.csv')\n",
    "a = df['GPS Time'].iloc[1]\n",
    "b = avg_fuel(df)\n",
    "c = 0.655\n",
    "d = over_speeding(df)\n",
    "\n",
    "def Append(a,b,c,d):\n",
    "    A.append(a)\n",
    "    B.append(b)\n",
    "    C.append(c)\n",
    "    D.append(d)\n",
    "    df1={'Day':A, 'Average':B, 'efficiency_cat_con':C, 'No. of over_speeding_instances':D}\n",
    "    return df1"
   ]
  },
  {
   "cell_type": "code",
   "execution_count": 6,
   "id": "fixed-airport",
   "metadata": {},
   "outputs": [
    {
     "data": {
      "text/plain": [
       "{'Day': ['Sat Aug 14 15:22:22 GMT+05:30 2021',\n",
       "  'Sat Aug 14 15:43:08 GMT+05:30 2021',\n",
       "  'Sat Aug 14 15:22:22 GMT+05:30 2021',\n",
       "  'Sat Aug 14 15:22:22 GMT+05:30 2021',\n",
       "  'Sat Aug 14 16:08:05 GMT+05:30 2021'],\n",
       " 'Average': [10.308, 10.681, 10.308, 10.308, 8.902],\n",
       " 'efficiency_cat_con': [0.6356, 0.7127, 0.655, 0.655, 0.655],\n",
       " 'No. of over_speeding_instances': [4, 9, 4, 4, 5]}"
      ]
     },
     "execution_count": 6,
     "metadata": {},
     "output_type": "execute_result"
    }
   ],
   "source": [
    "data1 = Append(a,b,c,d)\n",
    "data1"
   ]
  },
  {
   "cell_type": "code",
   "execution_count": 7,
   "id": "specialized-document",
   "metadata": {},
   "outputs": [
    {
     "data": {
      "text/html": [
       "<div>\n",
       "<style scoped>\n",
       "    .dataframe tbody tr th:only-of-type {\n",
       "        vertical-align: middle;\n",
       "    }\n",
       "\n",
       "    .dataframe tbody tr th {\n",
       "        vertical-align: top;\n",
       "    }\n",
       "\n",
       "    .dataframe thead th {\n",
       "        text-align: right;\n",
       "    }\n",
       "</style>\n",
       "<table border=\"1\" class=\"dataframe\">\n",
       "  <thead>\n",
       "    <tr style=\"text-align: right;\">\n",
       "      <th></th>\n",
       "      <th>Day</th>\n",
       "      <th>Average</th>\n",
       "      <th>efficiency_cat_con</th>\n",
       "      <th>No. of over_speeding_instances</th>\n",
       "    </tr>\n",
       "  </thead>\n",
       "  <tbody>\n",
       "    <tr>\n",
       "      <th>0</th>\n",
       "      <td>Sat Aug 14 15:22:22 GMT+05:30 2021</td>\n",
       "      <td>10.308</td>\n",
       "      <td>0.6356</td>\n",
       "      <td>4</td>\n",
       "    </tr>\n",
       "    <tr>\n",
       "      <th>1</th>\n",
       "      <td>Sat Aug 14 15:43:08 GMT+05:30 2021</td>\n",
       "      <td>10.681</td>\n",
       "      <td>0.7127</td>\n",
       "      <td>9</td>\n",
       "    </tr>\n",
       "    <tr>\n",
       "      <th>2</th>\n",
       "      <td>Sat Aug 14 15:22:22 GMT+05:30 2021</td>\n",
       "      <td>10.308</td>\n",
       "      <td>0.6550</td>\n",
       "      <td>4</td>\n",
       "    </tr>\n",
       "    <tr>\n",
       "      <th>3</th>\n",
       "      <td>Sat Aug 14 15:22:22 GMT+05:30 2021</td>\n",
       "      <td>10.308</td>\n",
       "      <td>0.6550</td>\n",
       "      <td>4</td>\n",
       "    </tr>\n",
       "    <tr>\n",
       "      <th>4</th>\n",
       "      <td>Sat Aug 14 16:08:05 GMT+05:30 2021</td>\n",
       "      <td>8.902</td>\n",
       "      <td>0.6550</td>\n",
       "      <td>5</td>\n",
       "    </tr>\n",
       "  </tbody>\n",
       "</table>\n",
       "</div>"
      ],
      "text/plain": [
       "                                  Day  Average  efficiency_cat_con  \\\n",
       "0  Sat Aug 14 15:22:22 GMT+05:30 2021   10.308              0.6356   \n",
       "1  Sat Aug 14 15:43:08 GMT+05:30 2021   10.681              0.7127   \n",
       "2  Sat Aug 14 15:22:22 GMT+05:30 2021   10.308              0.6550   \n",
       "3  Sat Aug 14 15:22:22 GMT+05:30 2021   10.308              0.6550   \n",
       "4  Sat Aug 14 16:08:05 GMT+05:30 2021    8.902              0.6550   \n",
       "\n",
       "   No. of over_speeding_instances  \n",
       "0                               4  \n",
       "1                               9  \n",
       "2                               4  \n",
       "3                               4  \n",
       "4                               5  "
      ]
     },
     "execution_count": 7,
     "metadata": {},
     "output_type": "execute_result"
    }
   ],
   "source": [
    "df1 = pd.DataFrame.from_dict(data1)\n",
    "df1"
   ]
  },
  {
   "cell_type": "code",
   "execution_count": 8,
   "id": "blond-number",
   "metadata": {},
   "outputs": [],
   "source": [
    "df1.to_csv('Daily_data.csv')"
   ]
  },
  {
   "cell_type": "code",
   "execution_count": null,
   "id": "difficult-dream",
   "metadata": {},
   "outputs": [],
   "source": []
  }
 ],
 "metadata": {
  "kernelspec": {
   "display_name": "Python 3",
   "language": "python",
   "name": "python3"
  },
  "language_info": {
   "codemirror_mode": {
    "name": "ipython",
    "version": 3
   },
   "file_extension": ".py",
   "mimetype": "text/x-python",
   "name": "python",
   "nbconvert_exporter": "python",
   "pygments_lexer": "ipython3",
   "version": "3.9.0"
  }
 },
 "nbformat": 4,
 "nbformat_minor": 5
}
