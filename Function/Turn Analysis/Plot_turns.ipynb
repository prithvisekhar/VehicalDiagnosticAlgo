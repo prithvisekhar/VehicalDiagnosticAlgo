{
 "cells": [
  {
   "cell_type": "code",
   "execution_count": 1,
   "id": "burning-junction",
   "metadata": {},
   "outputs": [],
   "source": [
    "import pandas as pd\n",
    "import numpy as np\n",
    "import gmplot\n",
    "from Turning import check_turn  # , quality_turn"
   ]
  },
  {
   "cell_type": "code",
   "execution_count": 27,
   "id": "legislative-glance",
   "metadata": {},
   "outputs": [
    {
     "name": "stdout",
     "output_type": "stream",
     "text": [
      "(620, 5)\n"
     ]
    }
   ],
   "source": [
    "# data = pd.read_csv('Swift//MarL2.csv')\n",
    "data = pd.read_csv('data//14-Aug-2021-4.csv')\n",
    "# print(data[' Bearing'])\n",
    "df = pd.DataFrame()\n",
    "df['time'] = data['Trip Time(Since journey start)(s)']\n",
    "df['Latitude'] = data[' Latitude']\n",
    "df['Longitude'] = data[' Longitude']\n",
    "df['Compass angle'] = data[' Bearing'].astype('float')\n",
    "df['Speed'] = data['Speed (OBD)(km/h)'].astype('float')\n",
    "\n",
    "df['Compass angle'] = df['Compass angle'].replace(0, np.nan)\n",
    "df['Compass angle'] = df['Compass angle'].replace(method='ffill')\n",
    "# df = df.dropna(axis=0)\n",
    "df = df[df['time']>0]\n",
    "print(df.shape)\n",
    "# df.set_index('time', inplace=True)"
   ]
  },
  {
   "cell_type": "code",
   "execution_count": 28,
   "id": "according-fight",
   "metadata": {},
   "outputs": [
    {
     "data": {
      "text/plain": [
       "620"
      ]
     },
     "execution_count": 28,
     "metadata": {},
     "output_type": "execute_result"
    }
   ],
   "source": [
    "Speed = df['Speed']\n",
    "Angle = df['Compass angle']\n",
    "len(Angle)"
   ]
  },
  {
   "cell_type": "code",
   "execution_count": 29,
   "id": "romantic-michigan",
   "metadata": {},
   "outputs": [
    {
     "name": "stdout",
     "output_type": "stream",
     "text": [
      "[30, 42, 165, 178, 204, 217, 263, 273, 384, 420, 480, 517, 552, 563, 586, 596, 606]\n",
      "[39, 51, 174, 187, 213, 226, 272, 282, 393, 429, 489, 526, 561, 572, 595, 605, 615]\n"
     ]
    }
   ],
   "source": [
    "spot1 = []\n",
    "spot2 = []\n",
    "i = 0\n",
    "while i < (df.shape[0] - 10):\n",
    "    if abs(Angle.iloc[i] - Angle.iloc[i + 9]) >= 60:\n",
    "        spot1.append(i)\n",
    "        spot2.append(i + 9)\n",
    "        # ans.append(check_turn(i, i + 10))\n",
    "        i = i + 10\n",
    "    else:\n",
    "        i += 1\n",
    "\n",
    "print(spot1)\n",
    "print(spot2)"
   ]
  },
  {
   "cell_type": "code",
   "execution_count": 21,
   "id": "recreational-corner",
   "metadata": {},
   "outputs": [
    {
     "data": {
      "text/plain": [
       "10"
      ]
     },
     "execution_count": 21,
     "metadata": {},
     "output_type": "execute_result"
    }
   ],
   "source": [
    "x = np.array(Speed.iloc[139:148+1])\n",
    "n = len(x)\n",
    "n"
   ]
  },
  {
   "cell_type": "code",
   "execution_count": 33,
   "id": "individual-warner",
   "metadata": {},
   "outputs": [],
   "source": [
    "def quality_turn2(speed, start, end):\n",
    "    x = np.array(speed.iloc[start:end+1])\n",
    "    n = len(x)\n",
    "    \n",
    "    score = 0\n",
    "    for i in range(n):\n",
    "        # if speed.iloc[start+i] - speed.iloc[start + i + 1] >= 0:\n",
    "        if speed.iloc[start+i] >= speed.iloc[start + i + 1]:\n",
    "            score += 1\n",
    "        else:\n",
    "            score += 0\n",
    "    # return n, score, ((score*100)/(n-1))\n",
    "    return round((score / (n+2)) * 100, 2)"
   ]
  },
  {
   "cell_type": "code",
   "execution_count": 23,
   "id": "direct-secretariat",
   "metadata": {},
   "outputs": [
    {
     "name": "stdout",
     "output_type": "stream",
     "text": [
      "100.0\n",
      "66.67\n"
     ]
    }
   ],
   "source": [
    "print(quality_turn2(Speed, 36, 45))\n",
    "print(quality_turn2(Speed, 47, 56))"
   ]
  },
  {
   "cell_type": "code",
   "execution_count": 24,
   "id": "continent-address",
   "metadata": {},
   "outputs": [
    {
     "name": "stdout",
     "output_type": "stream",
     "text": [
      "[20.0, 23.0, 23.0, 26.0, 26.0, 29.0, 29.0, 29.0, 29.0, 29.0]\n"
     ]
    }
   ],
   "source": [
    "def quality_turn3(speed, start, end):\n",
    "    x = np.array(speed.iloc[start:end+1])\n",
    "    n = len(x)\n",
    "    Velocity = []\n",
    "    # score = 0\n",
    "    for i in range(n):\n",
    "        Velocity.append(speed.iloc[start+i])\n",
    "    print(Velocity)\n",
    "\n",
    "quality_turn3(df['Speed'], 154, 163)"
   ]
  },
  {
   "cell_type": "code",
   "execution_count": 53,
   "id": "vocal-float",
   "metadata": {},
   "outputs": [
    {
     "name": "stdout",
     "output_type": "stream",
     "text": [
      "Left\n",
      "Bad Turn, score is 50.0 %\n",
      "Left\n",
      "Good Turn, score is 66.67 %\n",
      "Right\n",
      "Good Turn, score is 66.67 %\n",
      "Right\n",
      "Bad Turn, score is 50.0 %\n",
      "Left\n",
      "Good Turn, score is 83.33 %\n",
      "Left\n",
      "Bad Turn, score is 58.33 %\n",
      "Right\n",
      "Good Turn, score is 66.67 %\n",
      "Right\n",
      "Good Turn, score is 66.67 %\n",
      "Right\n",
      "Good Turn, score is 66.67 %\n",
      "Right\n",
      "Good Turn, score is 83.33 %\n",
      "Left\n",
      "Good Turn, score is 83.33 %\n",
      "Right\n",
      "Bad Turn, score is 58.33 %\n",
      "Left\n",
      "Good Turn, score is 75.0 %\n",
      "Right\n",
      "Good Turn, score is 66.67 %\n",
      "Right\n",
      "Good Turn, score is 75.0 %\n",
      "Right\n",
      "Good Turn, score is 66.67 %\n",
      "Left\n",
      "Good Turn, score is 83.33 %\n"
     ]
    }
   ],
   "source": [
    "Lati = []\n",
    "Longi = []\n",
    "for i in range(len(spot1)):\n",
    "    T = check_turn(Angle, spot1[i], spot2[i])\n",
    "    print(T)\n",
    "    y = quality_turn2(Speed, spot1[i], spot2[i])\n",
    "    if y >= 60:\n",
    "        print('Good Turn, score is', y, '%')\n",
    "    else:\n",
    "        print('Bad Turn, score is', y, '%')\n",
    "        for j in range(spot2[i] - spot1[i]):\n",
    "            Lati.append(df['Latitude'].iloc[spot1[i]+j])\n",
    "            Longi.append(df['Longitude'].iloc[spot1[i]+j])            "
   ]
  },
  {
   "cell_type": "code",
   "execution_count": 54,
   "id": "retained-bottle",
   "metadata": {},
   "outputs": [
    {
     "name": "stdout",
     "output_type": "stream",
     "text": [
      "[18.62956022, 18.62957969, 18.62960487, 18.62963444, 18.6296605, 18.62968815, 18.62972004, 18.62975324, 18.62979218, 18.62743281, 18.62745096, 18.62746766, 18.62748874, 18.62751544, 18.627539499999997, 18.62755874, 18.62757989, 18.62760723, 18.62895251, 18.62897987, 18.6290076, 18.62903043, 18.62905216, 18.62907395, 18.62909273, 18.62910978, 18.62912476, 18.63010775, 18.6301204, 18.63014252, 18.63015089, 18.63014627, 18.63014318, 18.63013148, 18.63011454, 18.63009879]\n",
      "[73.78850902, 73.78851004, 73.78851369, 73.78851920000001, 73.78852109, 73.7885216, 73.78852422, 73.78852718, 73.78852454, 73.78218774, 73.78218301, 73.78217948, 73.78217551, 73.78217144, 73.78216819, 73.78216509, 73.78216221, 73.78216021, 73.782487, 73.78247781, 73.78246794, 73.78244922, 73.78242396, 73.78239407, 73.78236061, 73.78232508, 73.78228714, 73.78820553, 73.78823794, 73.7882869, 73.78832215, 73.78834957, 73.78837971, 73.78840796, 73.78843083, 73.78844895]\n"
     ]
    }
   ],
   "source": [
    "print(Lati)\n",
    "print(Longi)"
   ]
  },
  {
   "cell_type": "code",
   "execution_count": 55,
   "id": "curious-brass",
   "metadata": {},
   "outputs": [],
   "source": [
    "gmap = gmplot.GoogleMapPlotter(df['Latitude'].iloc[1], df['Longitude'].iloc[1], 17)\n",
    "gmap.scatter(Lati, Longi, 'red', size=2, marker=False)\n",
    "gmap.draw(\"Bad_turns_1.html\")"
   ]
  },
  {
   "cell_type": "code",
   "execution_count": 38,
   "id": "amber-reach",
   "metadata": {},
   "outputs": [],
   "source": [
    "\"\"\"def PlotMap(Latitude, Longitude):\n",
    "    gmap = gmplot.GoogleMapPlotter(df['Latitude'].iloc[1], df['Longitude'].iloc[1], 17)\n",
    "    gmap.scatter(Latitude, Longitude, 'red', size=2, marker=False)\n",
    "    gmap.draw(\"Bad_turns_1.html\")\"\"\""
   ]
  },
  {
   "cell_type": "code",
   "execution_count": 39,
   "id": "forward-stereo",
   "metadata": {},
   "outputs": [],
   "source": [
    "PlotMap(Lati, Longi)"
   ]
  },
  {
   "cell_type": "code",
   "execution_count": 46,
   "id": "equal-history",
   "metadata": {},
   "outputs": [
    {
     "data": {
      "text/plain": [
       "-34"
      ]
     },
     "execution_count": 46,
     "metadata": {},
     "output_type": "execute_result"
    }
   ],
   "source": [
    "n = (spot2[i-3] - spot1[i])\n",
    "n"
   ]
  },
  {
   "cell_type": "code",
   "execution_count": null,
   "id": "bright-moldova",
   "metadata": {},
   "outputs": [],
   "source": []
  }
 ],
 "metadata": {
  "kernelspec": {
   "display_name": "Python 3",
   "language": "python",
   "name": "python3"
  },
  "language_info": {
   "codemirror_mode": {
    "name": "ipython",
    "version": 3
   },
   "file_extension": ".py",
   "mimetype": "text/x-python",
   "name": "python",
   "nbconvert_exporter": "python",
   "pygments_lexer": "ipython3",
   "version": "3.9.0"
  }
 },
 "nbformat": 4,
 "nbformat_minor": 5
}
