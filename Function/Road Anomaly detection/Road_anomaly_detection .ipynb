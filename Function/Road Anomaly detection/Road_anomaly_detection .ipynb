{
 "cells": [
  {
   "cell_type": "code",
   "execution_count": 1,
   "id": "intermediate-rachel",
   "metadata": {},
   "outputs": [],
   "source": [
    "import gmplot\n",
    "import pandas as pd\n",
    "import numpy as np\n",
    "import matplotlib.pyplot as plt\n",
    "import peakutils\n",
    "import scipy\n",
    "import os\n",
    "import cv2\n",
    "from PIL import Image"
   ]
  },
  {
   "cell_type": "code",
   "execution_count": 2,
   "id": "extended-forum",
   "metadata": {},
   "outputs": [
    {
     "data": {
      "text/plain": [
       "(104, 84)"
      ]
     },
     "execution_count": 2,
     "metadata": {},
     "output_type": "execute_result"
    }
   ],
   "source": [
    "import pandas as pd\n",
    "data = pd.read_csv('18-Aug-2021.csv')\n",
    "data.shape"
   ]
  },
  {
   "cell_type": "code",
   "execution_count": 3,
   "id": "affected-christopher",
   "metadata": {},
   "outputs": [
    {
     "name": "stdout",
     "output_type": "stream",
     "text": [
      "        Accx      Accy      Accz        Lat      Longi  Speed  Time\n",
      "19  0.999096  0.031812 -0.295734  18.630658  73.789709      4     1\n",
      "20  1.024235  0.049383 -0.206897  18.630658  73.789709      7     2\n",
      "21  0.857542 -0.035548 -0.002865  18.630658  73.789709      7     3\n",
      "22  0.807756 -0.059222 -0.198110  18.630658  73.789709      7     4\n",
      "23  1.035705  0.065491 -0.097071  18.630658  73.789709      7     5\n"
     ]
    }
   ],
   "source": [
    "R = pd.DataFrame()\n",
    "R['Accx'] = data['Acceleration Sensor(X axis)(g)']\n",
    "R['Accy'] = data['Acceleration Sensor(Y axis)(g)']\n",
    "R['Accz'] = data['Acceleration Sensor(Z axis)(g)']\n",
    "R['Lat'] = data[' Latitude']\n",
    "R['Longi'] = data[' Longitude']\n",
    "R['Speed'] = data['Speed (OBD)(km/h)']\n",
    "R['Time'] = data['Trip Time(Since journey start)(s)']\n",
    "\n",
    "R = R[R['Time']>0]\n",
    "print(R.head())"
   ]
  },
  {
   "cell_type": "markdown",
   "id": "asian-mumbai",
   "metadata": {},
   "source": [
    "### Using the filter on acceleration values"
   ]
  },
  {
   "cell_type": "code",
   "execution_count": 4,
   "id": "worst-belfast",
   "metadata": {},
   "outputs": [],
   "source": [
    "def average(list):\n",
    "    # list1 = [w.replace('Acceleration Sensor(Z axis)(g)', '0') for w in list]\n",
    "    list2 = [float(i) for i in list]\n",
    "    res = 0\n",
    "    for ele in list2:\n",
    "        res += ele\n",
    "        avg = res / 3\n",
    "    res = [prod(list2[x:x + 3]) for x in range(0, len(list2), 3)]\n",
    "    return res\n",
    "def highpassfilter(Accelerometer_values):\n",
    "    fc = 0.2\n",
    "    b = 0.16\n",
    "    N = int(np.ceil((4 / b)))\n",
    "    if not N % 2: N += 1\n",
    "    # Make sure that N is odd.\n",
    "    n = np.arange(N)\n",
    "\n",
    "    # Compute a low-pass filter.\n",
    "    h = np.sinc(2 * fc * (n - (N - 1) / 2))\n",
    "    w = np.blackman(N)\n",
    "    h = h * w\n",
    "    h = h / np.sum(h)\n",
    "\n",
    "    # Create a high-pass filter from the low-pass filter through spectral inversion\n",
    "    h = -h\n",
    "    h[(N - 1) // 2] += 1\n",
    "    s = np.convolve(Accelerometer_values, h)\n",
    "    np.set_printoptions(suppress=False)\n",
    "    s1 = s.astype(\n",
    "        float)  # amplifying the output by 10 times for further computation\n",
    "    return s1"
   ]
  },
  {
   "cell_type": "markdown",
   "id": "solid-mapping",
   "metadata": {},
   "source": [
    "### Creating the separate dataframe for pothole and speed breaker"
   ]
  },
  {
   "cell_type": "code",
   "execution_count": 5,
   "id": "treated-pearl",
   "metadata": {},
   "outputs": [
    {
     "name": "stdout",
     "output_type": "stream",
     "text": [
      "        Accx      Accy      Accz        Lat      Longi  Speed  Time\n",
      "39  0.487796  0.105760 -0.325021  18.630707  73.790384     24    21\n",
      "45  0.688655  0.300519 -0.317698  18.630682  73.790826     25    27\n",
      "72  0.684995 -0.114134 -0.361873  18.630295  73.792155     14    54\n"
     ]
    }
   ],
   "source": [
    "pothole = R[R['Time']>0]\n",
    "pothole = R[R['Accx']<0.7]\n",
    "print(pothole.head())"
   ]
  },
  {
   "cell_type": "code",
   "execution_count": 6,
   "id": "lovely-handbook",
   "metadata": {},
   "outputs": [
    {
     "name": "stdout",
     "output_type": "stream",
     "text": [
      "        Accx      Accy      Accz        Lat      Longi  Speed  Time\n",
      "29  1.496242 -0.236895 -0.233500  18.630673  73.789886     13    11\n",
      "48  1.356640 -0.006993 -0.176635  18.630653  73.791026     26    30\n"
     ]
    }
   ],
   "source": [
    "Speed_breaker = R[R['Time']>0]\n",
    "Speed_breaker = R[R['Accx']>1.3]\n",
    "print(Speed_breaker.head())"
   ]
  },
  {
   "cell_type": "markdown",
   "id": "national-charger",
   "metadata": {},
   "source": [
    "### Getting time instances for the road anomalies"
   ]
  },
  {
   "cell_type": "code",
   "execution_count": 7,
   "id": "continuing-truth",
   "metadata": {},
   "outputs": [],
   "source": [
    "def get_index(df):\n",
    "    time_index = []\n",
    "    for i in range(df.shape[0]):\n",
    "        v = df['Speed'].iloc[i] * (5/18)\n",
    "        x = df['Time'].iloc[i] - (14.34 / v)\n",
    "        x = round(x)*2\n",
    "        time_index.append(x)\n",
    "    return time_index"
   ]
  },
  {
   "cell_type": "code",
   "execution_count": 8,
   "id": "dangerous-number",
   "metadata": {},
   "outputs": [
    {
     "name": "stdout",
     "output_type": "stream",
     "text": [
      "[38, 50, 100]\n",
      "[14, 56]\n"
     ]
    }
   ],
   "source": [
    "time_pothole = get_index(pothole)\n",
    "print(time_pothole)\n",
    "time_speed_breaker = get_index(Speed_breaker)\n",
    "print(time_speed_breaker)"
   ]
  },
  {
   "cell_type": "markdown",
   "id": "external-worker",
   "metadata": {},
   "source": [
    "### Geoplotting the anomaly instances"
   ]
  },
  {
   "cell_type": "code",
   "execution_count": 10,
   "id": "enhanced-retreat",
   "metadata": {},
   "outputs": [
    {
     "name": "stdout",
     "output_type": "stream",
     "text": [
      "[19, 25, 50]\n",
      "[7, 28]\n"
     ]
    }
   ],
   "source": [
    "# for pothole \n",
    "P = []\n",
    "for i in time_pothole:\n",
    "    x = int(i/2)\n",
    "    P.append(x)\n",
    "print(P)\n",
    "\n",
    "# for speed breaker\n",
    "S = []\n",
    "for i in time_speed_breaker:\n",
    "    y = int(i/2)\n",
    "    S.append(y)\n",
    "print(S)"
   ]
  },
  {
   "cell_type": "code",
   "execution_count": 11,
   "id": "adjustable-twelve",
   "metadata": {},
   "outputs": [],
   "source": [
    "def get_locations(df, X):\n",
    "    Lat = []\n",
    "    Long = []\n",
    "    for i in range(len(X)):\n",
    "        x = df['Lat'].iloc[X[i]]\n",
    "        y = df['Longi'].iloc[X[i]]\n",
    "        Lat.append(x)\n",
    "        Long.append(y)\n",
    "    return Lat, Long"
   ]
  },
  {
   "cell_type": "code",
   "execution_count": 13,
   "id": "comfortable-stanford",
   "metadata": {},
   "outputs": [],
   "source": [
    "potholes_lat, potholes_long = get_locations(R, P)\n",
    "speed_breaker_lat, speed_breaker_long = get_locations(R, S)"
   ]
  },
  {
   "cell_type": "code",
   "execution_count": 15,
   "id": "sweet-bankruptcy",
   "metadata": {},
   "outputs": [],
   "source": [
    "def PlotMap(latitude_potholes, longitude_potholes, latitude_speed_breaker, longitude_speed_breaker):\n",
    "    gmap = gmplot.GoogleMapPlotter(R['Lat'].iloc[1], R['Longi'].iloc[1], 17)\n",
    "    gmap.scatter(latitude_potholes, longitude_potholes, 'red', size=6, marker=False)\n",
    "    gmap.scatter(latitude_speed_breaker, longitude_speed_breaker, 'yellow', size=6, marker=False)\n",
    "    gmap.draw(\"road_anomalies_1.html\")"
   ]
  },
  {
   "cell_type": "code",
   "execution_count": 16,
   "id": "interpreted-pledge",
   "metadata": {},
   "outputs": [],
   "source": [
    "PlotMap(potholes_lat, potholes_long, speed_breaker_lat, speed_breaker_long)"
   ]
  },
  {
   "cell_type": "markdown",
   "id": "significant-niagara",
   "metadata": {},
   "source": [
    "### Converting video into frames"
   ]
  },
  {
   "cell_type": "code",
   "execution_count": 18,
   "id": "disabled-mining",
   "metadata": {},
   "outputs": [],
   "source": [
    "vidcap = cv2.VideoCapture('Pothole_trial_18_6_0.mp4')"
   ]
  },
  {
   "cell_type": "code",
   "execution_count": 19,
   "id": "needed-google",
   "metadata": {},
   "outputs": [],
   "source": [
    "def set_video(video):\n",
    "    def getFrame(x):\n",
    "        video.set(cv2.CAP_PROP_POS_MSEC, x * 1000)\n",
    "        hasFrames, image = video.read()\n",
    "        if hasFrames:\n",
    "            #cv2.imwrite(\"image\" + str(count) + \".jpg\", image)  # save frame as JPG file\n",
    "            cv2.imwrite(str(count) + \".jpg\", image)\n",
    "        return hasFrames\n",
    "\n",
    "    sec = 0\n",
    "    frameRate = 0.5  # //it will capture image in each 0.5 second\n",
    "    count = 1\n",
    "    success = getFrame(sec)\n",
    "    while success:\n",
    "        count = count + 1\n",
    "        sec = sec + frameRate\n",
    "        sec = round(sec, 2)\n",
    "        success = getFrame(sec)"
   ]
  },
  {
   "cell_type": "code",
   "execution_count": 20,
   "id": "studied-karen",
   "metadata": {},
   "outputs": [],
   "source": [
    "set_video(vidcap)"
   ]
  },
  {
   "cell_type": "code",
   "execution_count": 24,
   "id": "enabling-regular",
   "metadata": {},
   "outputs": [],
   "source": [
    "path = os.getcwd()\n",
    "ImageDetected = [f for f in os.listdir(path) if f.endswith('.jpg')]"
   ]
  },
  {
   "cell_type": "code",
   "execution_count": 25,
   "id": "assigned-bidding",
   "metadata": {},
   "outputs": [],
   "source": [
    "images = ImageDetected\n",
    "\n",
    "lst = []\n",
    "for k in images:\n",
    "    temp = k.split('.')\n",
    "    first = temp[0]\n",
    "    lst.append(int(first))\n",
    "\n",
    "lst.sort()\n",
    "\n",
    "imagetemp = []\n",
    "for k in lst:\n",
    "    imagetemp.append(str(k) + \".jpg\")\n",
    "    \n",
    "#print(imagetemp)\n",
    "images = imagetemp\n",
    "\n",
    "# print(images)"
   ]
  },
  {
   "cell_type": "markdown",
   "id": "compressed-accommodation",
   "metadata": {},
   "source": [
    "### Getting probable anomalies images from list of images "
   ]
  },
  {
   "cell_type": "code",
   "execution_count": 26,
   "id": "private-puppy",
   "metadata": {},
   "outputs": [],
   "source": [
    "def get_images(time):\n",
    "    image = []\n",
    "    for i in time:\n",
    "        image.append(images[i-4:i])\n",
    "    #rint(image_pothole)\n",
    "    x = len(image)\n",
    "    y = len(image[0])\n",
    "    all_images = []\n",
    "    for i in range(x):\n",
    "        for j in range(y):\n",
    "            all_images.append(image[i][j])\n",
    "\n",
    "    return all_images"
   ]
  },
  {
   "cell_type": "code",
   "execution_count": 39,
   "id": "aggressive-wonder",
   "metadata": {},
   "outputs": [],
   "source": [
    "pothole_images = get_images(time_pothole)"
   ]
  },
  {
   "cell_type": "code",
   "execution_count": 30,
   "id": "previous-product",
   "metadata": {},
   "outputs": [],
   "source": [
    "speed_breaker_images = get_images(time_speed_breaker)"
   ]
  },
  {
   "cell_type": "markdown",
   "id": "major-houston",
   "metadata": {},
   "source": [
    "### Saving iamges to their locations"
   ]
  },
  {
   "cell_type": "code",
   "execution_count": 32,
   "id": "absent-marriage",
   "metadata": {},
   "outputs": [],
   "source": [
    "path_pothole = \"D://G Drive backup//LTTS Internship//Reimplementing_codes//Pothole detection//Pothole_images//\"\n",
    "path_speed_breaker = \"D://G Drive backup//LTTS Internship//Reimplementing_codes//Pothole detection//Speed_breaker_images//\""
   ]
  },
  {
   "cell_type": "code",
   "execution_count": 33,
   "id": "mexican-juvenile",
   "metadata": {},
   "outputs": [],
   "source": [
    "def save(images, path):\n",
    "    for i in range(len(images)):\n",
    "        mac = Image.open(images[i])\n",
    "        mac.save(path+'Image'+str(i)+'.jpg')"
   ]
  },
  {
   "cell_type": "code",
   "execution_count": 34,
   "id": "virgin-daisy",
   "metadata": {},
   "outputs": [],
   "source": [
    "save(pothole_images, path_pothole)"
   ]
  },
  {
   "cell_type": "code",
   "execution_count": 35,
   "id": "spiritual-instrument",
   "metadata": {},
   "outputs": [],
   "source": [
    "save(speed_breaker_images, path_speed_breaker)"
   ]
  },
  {
   "cell_type": "code",
   "execution_count": null,
   "id": "rising-asbestos",
   "metadata": {},
   "outputs": [],
   "source": []
  }
 ],
 "metadata": {
  "kernelspec": {
   "display_name": "Python 3",
   "language": "python",
   "name": "python3"
  },
  "language_info": {
   "codemirror_mode": {
    "name": "ipython",
    "version": 3
   },
   "file_extension": ".py",
   "mimetype": "text/x-python",
   "name": "python",
   "nbconvert_exporter": "python",
   "pygments_lexer": "ipython3",
   "version": "3.9.0"
  }
 },
 "nbformat": 4,
 "nbformat_minor": 5
}
